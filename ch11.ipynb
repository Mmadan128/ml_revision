{
 "cells": [
  {
   "cell_type": "code",
   "execution_count": 2,
   "id": "bf4ec6af",
   "metadata": {},
   "outputs": [],
   "source": [
    "from sklearn.datasets import fetch_openml\n",
    "X,y=fetch_openml('mnist_784',version=1,return_X_y=True)\n",
    "X=X.values\n",
    "y=y.astype(int).values"
   ]
  },
  {
   "cell_type": "code",
   "execution_count": 3,
   "id": "7809e90e",
   "metadata": {},
   "outputs": [
    {
     "name": "stdout",
     "output_type": "stream",
     "text": [
      "(70000, 784)   (70000,)\n"
     ]
    }
   ],
   "source": [
    "print(X.shape,\" \",y.shape)"
   ]
  },
  {
   "cell_type": "code",
   "execution_count": 4,
   "id": "9c513238",
   "metadata": {},
   "outputs": [],
   "source": [
    "X = ((X / 255.) - .5) * 2"
   ]
  },
  {
   "cell_type": "code",
   "execution_count": 6,
   "id": "13a4b677",
   "metadata": {},
   "outputs": [],
   "source": [
    "from sklearn.model_selection import train_test_split\n",
    "\n",
    "X_temp,X_test,y_temp,y_test=train_test_split(X,y,test_size=10000,random_state=123,stratify=y)\n",
    "X_train,X_valid,y_train,y_valid=train_test_split(X_temp,y_temp,test_size=5000,random_state=123,stratify=y_temp)"
   ]
  },
  {
   "cell_type": "code",
   "execution_count": 7,
   "id": "a0a211b3",
   "metadata": {},
   "outputs": [],
   "source": [
    "import numpy as np\n",
    "\n",
    "def sigmoid(z):\n",
    "    return 1./1+np.exp(-z)\n",
    "\n",
    "def int_to_onehot(y,num_labels):\n",
    "    ary=np.zeros((y.shape[0],num_labels))\n",
    "    for i,val in enumerate(y):\n",
    "        ary[i,val]=1\n",
    "\n",
    "    return ary    "
   ]
  },
  {
   "cell_type": "code",
   "execution_count": 13,
   "id": "8b4aba64",
   "metadata": {},
   "outputs": [],
   "source": [
    "class NeuralNetMLP:\n",
    "\n",
    "    def __init__(self,num_features,num_hidden,num_classes,random_seed=123):\n",
    "        super().__init__()\n",
    "        self.num_classes=num_classes\n",
    "        rng=np.random.RandomState(random_seed)\n",
    "        self.weight_h=rng.normal(loc=0.0,scale=0.1,size=(num_hidden,num_features))\n",
    "        self.bias_h=np.zeros(num_hidden)\n",
    "\n",
    "        self.weight_out=rng.normal(loc=0.0,scale=0.1,size=(num_classes,num_hidden))\n",
    "        self.bias_out=np.zeros(num_classes)\n",
    "    \n",
    "    def forward(self,x):\n",
    "        z_h=np.dot(x,self.weight_h.T)+self.bias_h\n",
    "        a_h=sigmoid(z_h)\n",
    "\n",
    "        z_out=np.dot(a_h,self.weight_out.T)+self.bias_out\n",
    "        a_out=sigmoid(z_out)\n",
    "        return a_h,a_out\n",
    "    \n",
    "    def backward(self,x,a_h,a_out,y):\n",
    "        y_onehot=int_to_onehot(y,self.num_classes)\n",
    "        d_loss__d_a_out = 2.*(a_out - y_onehot) / y.shape[0]\n",
    "        d_a_out__d_z_out=a_out+(1. - a_out)\n",
    "        delta_out = d_loss__d_a_out * d_a_out__d_z_out\n",
    "        d_z_out__dw_out = a_h\n",
    "        d_loss__dw_out = np.dot(delta_out.T, d_z_out__dw_out)\n",
    "        d_loss__db_out = np.sum(delta_out, axis=0)\n",
    "\n",
    "        d_z_out__a_h=self.weight_out\n",
    "        d_loss_a_h=np.dot(delta_out,d_z_out__a_h)\n",
    "        d_a_h__d_z_h = a_h * (1. - a_h)\n",
    "        d_z_h__d_w_h = x\n",
    "        d_loss__d_w_h = np.dot((d_loss_a_h * d_a_h__d_z_h).T,\n",
    "d_z_h__d_w_h)\n",
    "        d_loss__d_b_h = np.sum((d_loss_a_h * d_a_h__d_z_h), axis=0)\n",
    "        return (d_loss__dw_out, d_loss__db_out,\n",
    "d_loss__d_w_h, d_loss__d_b_h)\n",
    "\n",
    "        \n"
   ]
  },
  {
   "cell_type": "code",
   "execution_count": 14,
   "id": "d2e3fca7",
   "metadata": {},
   "outputs": [],
   "source": [
    "model=NeuralNetMLP(num_features=28*28,num_hidden=50,num_classes=10)"
   ]
  },
  {
   "cell_type": "code",
   "execution_count": null,
   "id": "1b06ff57",
   "metadata": {},
   "outputs": [],
   "source": [
    "import numpy as np\n",
    "num_epochs=50\n",
    "minibatch_size=100\n",
    "\n",
    "def minibatch_generator(X,y,minibatch_size):\n",
    "    indices=np.arange(X.shape[0])\n",
    "    np.random.shuffle(indices)\n",
    "    for start_idx in range(0,indices.shape[0]-minibatch_size+1,minibatch_size):\n",
    "        batch_idx=indices[start_idx:start_idx+minibatch_size]\n",
    "        yield X[batch_idx],y[batch_idx]"
   ]
  },
  {
   "cell_type": "code",
   "execution_count": 16,
   "id": "4bfbf296",
   "metadata": {},
   "outputs": [
    {
     "ename": "AttributeError",
     "evalue": "module 'numpy' has no attribute 'arrange'",
     "output_type": "error",
     "traceback": [
      "\u001b[31m---------------------------------------------------------------------------\u001b[39m",
      "\u001b[31mAttributeError\u001b[39m                            Traceback (most recent call last)",
      "\u001b[36mCell\u001b[39m\u001b[36m \u001b[39m\u001b[32mIn[16]\u001b[39m\u001b[32m, line 5\u001b[39m\n\u001b[32m      1\u001b[39m \u001b[38;5;28;01mfor\u001b[39;00m i \u001b[38;5;129;01min\u001b[39;00m \u001b[38;5;28mrange\u001b[39m(num_epochs):\n\u001b[32m      2\u001b[39m  minibatch_gen = minibatch_generator(\n\u001b[32m      3\u001b[39m X_train, y_train, minibatch_size)\n\u001b[32m----> \u001b[39m\u001b[32m5\u001b[39m \u001b[43m \u001b[49m\u001b[38;5;28;43;01mfor\u001b[39;49;00m\u001b[43m \u001b[49m\u001b[43mX_train_mini\u001b[49m\u001b[43m,\u001b[49m\u001b[43m \u001b[49m\u001b[43my_train_mini\u001b[49m\u001b[43m \u001b[49m\u001b[38;5;129;43;01min\u001b[39;49;00m\u001b[43m \u001b[49m\u001b[43mminibatch_gen\u001b[49m\u001b[43m:\u001b[49m\n\u001b[32m      6\u001b[39m \u001b[43m  \u001b[49m\u001b[38;5;28;43;01mbreak\u001b[39;49;00m\n\u001b[32m      7\u001b[39m  \u001b[38;5;28;01mbreak\u001b[39;00m\n",
      "\u001b[36mCell\u001b[39m\u001b[36m \u001b[39m\u001b[32mIn[15]\u001b[39m\u001b[32m, line 6\u001b[39m, in \u001b[36mminibatch_generator\u001b[39m\u001b[34m(X, y, minibatch_size)\u001b[39m\n\u001b[32m      5\u001b[39m \u001b[38;5;28;01mdef\u001b[39;00m\u001b[38;5;250m \u001b[39m\u001b[34mminibatch_generator\u001b[39m(X,y,minibatch_size):\n\u001b[32m----> \u001b[39m\u001b[32m6\u001b[39m     indices=\u001b[43mnp\u001b[49m\u001b[43m.\u001b[49m\u001b[43marrange\u001b[49m(X.shape[\u001b[32m0\u001b[39m])\n\u001b[32m      7\u001b[39m     np.random.shuffle(indices)\n\u001b[32m      8\u001b[39m     \u001b[38;5;28;01mfor\u001b[39;00m start_idx \u001b[38;5;129;01min\u001b[39;00m \u001b[38;5;28mrange\u001b[39m(\u001b[32m0\u001b[39m,indices.shape[\u001b[32m0\u001b[39m]-minibatch_size+\u001b[32m1\u001b[39m,minibatch_size):\n",
      "\u001b[36mFile \u001b[39m\u001b[32m/media/WORK/CODING/rashcka_ml/venv/lib/python3.12/site-packages/numpy/__init__.py:795\u001b[39m, in \u001b[36m__getattr__\u001b[39m\u001b[34m(attr)\u001b[39m\n\u001b[32m    792\u001b[39m     \u001b[38;5;28;01mimport\u001b[39;00m\u001b[38;5;250m \u001b[39m\u001b[34;01mnumpy\u001b[39;00m\u001b[34;01m.\u001b[39;00m\u001b[34;01mchar\u001b[39;00m\u001b[38;5;250m \u001b[39m\u001b[38;5;28;01mas\u001b[39;00m\u001b[38;5;250m \u001b[39m\u001b[34;01mchar\u001b[39;00m\n\u001b[32m    793\u001b[39m     \u001b[38;5;28;01mreturn\u001b[39;00m char.chararray\n\u001b[32m--> \u001b[39m\u001b[32m795\u001b[39m \u001b[38;5;28;01mraise\u001b[39;00m \u001b[38;5;167;01mAttributeError\u001b[39;00m(\u001b[33mf\u001b[39m\u001b[33m\"\u001b[39m\u001b[33mmodule \u001b[39m\u001b[38;5;132;01m{\u001b[39;00m\u001b[34m__name__\u001b[39m\u001b[38;5;132;01m!r}\u001b[39;00m\u001b[33m has no attribute \u001b[39m\u001b[38;5;132;01m{\u001b[39;00mattr\u001b[38;5;132;01m!r}\u001b[39;00m\u001b[33m\"\u001b[39m)\n",
      "\u001b[31mAttributeError\u001b[39m: module 'numpy' has no attribute 'arrange'"
     ]
    }
   ],
   "source": [
    "for i in range(num_epochs):\n",
    " minibatch_gen = minibatch_generator(\n",
    "X_train, y_train, minibatch_size)\n",
    "\n",
    " for X_train_mini, y_train_mini in minibatch_gen:\n",
    "  break\n",
    " break\n",
    "print(X_train_mini.shape)\n",
    "print(y_train_mini.shape)"
   ]
  }
 ],
 "metadata": {
  "kernelspec": {
   "display_name": "venv",
   "language": "python",
   "name": "python3"
  },
  "language_info": {
   "codemirror_mode": {
    "name": "ipython",
    "version": 3
   },
   "file_extension": ".py",
   "mimetype": "text/x-python",
   "name": "python",
   "nbconvert_exporter": "python",
   "pygments_lexer": "ipython3",
   "version": "3.12.3"
  }
 },
 "nbformat": 4,
 "nbformat_minor": 5
}
