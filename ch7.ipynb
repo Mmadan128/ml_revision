{
 "cells": [
  {
   "cell_type": "code",
   "execution_count": null,
   "id": "da32d539",
   "metadata": {},
   "outputs": [],
   "source": [
    "from scipy.special imprt comb\n",
    "import math\n",
    "def ensemble_error(n_classifier,error):\n",
    "    k_start=int(math.cell(n_classifier/2.))\n",
    "    probs=[comb(n_classifier,k)*]"
   ]
  },
  {
   "cell_type": "code",
   "execution_count": 1,
   "id": "31499867",
   "metadata": {},
   "outputs": [
    {
     "data": {
      "text/plain": [
       "np.int64(1)"
      ]
     },
     "execution_count": 1,
     "metadata": {},
     "output_type": "execute_result"
    }
   ],
   "source": [
    "import numpy as np\n",
    "np.argmax(np.bincount([0,0,1],weights=[0.2,0.2,0.6]))"
   ]
  },
  {
   "cell_type": "code",
   "execution_count": null,
   "id": "596f78fd",
   "metadata": {},
   "outputs": [],
   "source": [
    "from sklearn.base import BaseEstimator\n",
    "from sklearn.base import ClasssifierMixin\n",
    "from sklearn.preprocessing import LabelEncoder\n",
    "from sklearn.base import clone\n",
    "from sklearn.pipeline import _name_estimators\n",
    "import numpy as np\n",
    "import operator\n",
    "class MajorityVoteClassifier(BaseEstimator,ClassifierMixin):\n",
    "    def __init__(self,classifiers,vote='classlabel',weights=None):\n",
    "        self.classifiers=classifiers\n",
    "        self.named_classifiers={\n",
    "            key:value in key,\n",
    "            value in _name_estimators(classifiers)\n",
    "        }\n",
    "        self.vote=vote\n",
    "        self.weights=weights\n",
    "\n",
    "    def fit(self,X,y):\n",
    "        if self.vote not in ('probablity','classlabels'):\n",
    "            raise ValueError(f\"vote must be 'probability' \"\n",
    "f\"or 'classlabel'\"\n",
    "f\"; got (vote={self.vote})\")\n"
   ]
  },
  {
   "cell_type": "code",
   "execution_count": 26,
   "id": "46f75de8",
   "metadata": {},
   "outputs": [],
   "source": [
    "import pandas as pd \n",
    "df_wine = pd.read_csv('https://archive.ics.uci.edu/ml/'\n",
    "'machine-learning-databases/'\n",
    "'wine/wine.data',header=None)\n",
    "df_wine.columns = ['Class label', 'Alcohol',\n",
    "\n",
    "'Malic acid', 'Ash',\n",
    "\n",
    "'Alcalinity of ash',\n",
    "\n",
    "'Magnesium', 'Total phenols',\n",
    "'Flavanoids', 'Nonflavanoid phenols',\n",
    "\n",
    "'Proanthocyanins',\n",
    "'Color intensity', 'Hue',\n",
    "'OD280/OD315 of diluted wines',\n",
    "'Proline']\n",
    " # drop 1 class\n",
    "df_wine = df_wine[df_wine['Class label'] != 1]\n",
    "y = df_wine['Class label'].values\n",
    "X = df_wine[['Alcohol',\n",
    "\n",
    "'OD280/OD315 of diluted wines']].values"
   ]
  },
  {
   "cell_type": "code",
   "execution_count": 27,
   "id": "2f9951c0",
   "metadata": {},
   "outputs": [],
   "source": [
    "from sklearn.preprocessing import LabelEncoder\n",
    "from sklearn.model_selection import train_test_split\n",
    "le=LabelEncoder()\n",
    "y=le.fit_transform(y)\n",
    "X_train,X_test,y_train,y_test=train_test_split(X,y,test_size=0.2,random_state=1,stratify=y)"
   ]
  },
  {
   "cell_type": "code",
   "execution_count": 12,
   "id": "252c78cf",
   "metadata": {},
   "outputs": [],
   "source": [
    "from sklearn.ensemble import BaggingClassifier\n",
    "from sklearn.tree import DecisionTreeClassifier\n",
    "tree=DecisionTreeClassifier(criterion='entropy',random_state=1,max_depth=None)\n",
    "bag = BaggingClassifier(estimator=tree,\n",
    "n_estimators=500,\n",
    "max_samples=1.0,\n",
    "max_features=1.0,\n",
    "bootstrap=True,\n",
    "bootstrap_features=False,\n",
    "n_jobs=1,\n",
    "random_state=1)"
   ]
  },
  {
   "cell_type": "code",
   "execution_count": 13,
   "id": "faaae272",
   "metadata": {},
   "outputs": [
    {
     "name": "stdout",
     "output_type": "stream",
     "text": [
      "Decision tree train/test accuracies 1.000/0.833\n"
     ]
    }
   ],
   "source": [
    "from sklearn.metrics import accuracy_score\n",
    "tree=tree.fit(X_train,y_train)\n",
    "y_train_pred=tree.predict(X_train)\n",
    "y_test_pred=tree.predict(X_test)\n",
    "tree_train=accuracy_score(y_train,y_train_pred)\n",
    "tree_test=accuracy_score(y_test,y_test_pred)\n",
    "print(f'Decision tree train/test accuracies '\n",
    "f'{tree_train:.3f}/{tree_test:.3f}')"
   ]
  },
  {
   "cell_type": "code",
   "execution_count": 14,
   "id": "ae30ba9b",
   "metadata": {},
   "outputs": [
    {
     "name": "stdout",
     "output_type": "stream",
     "text": [
      "Bagging train/test accuracies 1.000/0.917\n"
     ]
    }
   ],
   "source": [
    "bag=bag.fit(X_train,y_train)\n",
    "y_train_pred=bag.predict(X_train)\n",
    "y_test_pred=bag.predict(X_test)\n",
    "bag_train=accuracy_score(y_train,y_train_pred)\n",
    "bag_test=accuracy_score(y_test,y_test_pred)\n",
    "print(f'Bagging train/test accuracies '\n",
    "f'{bag_train:.3f}/{bag_test:.3f}')"
   ]
  },
  {
   "cell_type": "markdown",
   "id": "f155384b",
   "metadata": {},
   "source": [
    "AdaBoost"
   ]
  },
  {
   "cell_type": "code",
   "execution_count": 18,
   "id": "4a8a00a4",
   "metadata": {},
   "outputs": [
    {
     "name": "stdout",
     "output_type": "stream",
     "text": [
      "[0.1 0.1 0.1 0.1 0.1 0.1 0.1 0.1 0.1 0.1]\n",
      "0.3\n"
     ]
    }
   ],
   "source": [
    "import numpy as np\n",
    "y=np.array([1,1,1,-1,-1,-1,1,1,1,-1])\n",
    "yhat=np.array([1,1,1,-1,-1,-1,-1,-1,-1,-1])\n",
    "correct=(y==yhat)\n",
    "weights=np.full(10,0.1)\n",
    "print(weights)\n",
    "epsilon=np.mean(~correct)\n",
    "print(epsilon)"
   ]
  },
  {
   "cell_type": "code",
   "execution_count": 19,
   "id": "0de851a1",
   "metadata": {},
   "outputs": [
    {
     "name": "stdout",
     "output_type": "stream",
     "text": [
      "0.42364893019360184\n"
     ]
    }
   ],
   "source": [
    "alpha_j=0.5*np.log((1-epsilon)/epsilon)\n",
    "print(alpha_j)"
   ]
  },
  {
   "cell_type": "code",
   "execution_count": 20,
   "id": "cb6381d8",
   "metadata": {},
   "outputs": [
    {
     "name": "stdout",
     "output_type": "stream",
     "text": [
      "0.06546536707079771\n"
     ]
    }
   ],
   "source": [
    "update_if_correct=0.1*np.exp(-alpha_j*1*1)\n",
    "print(update_if_correct)"
   ]
  },
  {
   "cell_type": "code",
   "execution_count": 22,
   "id": "f4d7d324",
   "metadata": {},
   "outputs": [
    {
     "name": "stdout",
     "output_type": "stream",
     "text": [
      "0.1527525231651947\n"
     ]
    }
   ],
   "source": [
    "update_if_wrong_2=0.1*np.exp(-alpha_j*1*-1)\n",
    "print(update_if_wrong_2)"
   ]
  },
  {
   "cell_type": "code",
   "execution_count": 24,
   "id": "cf961024",
   "metadata": {},
   "outputs": [
    {
     "name": "stdout",
     "output_type": "stream",
     "text": [
      "[0.06546537 0.06546537 0.06546537 0.06546537 0.06546537 0.06546537\n",
      " 0.15275252 0.15275252 0.15275252 0.06546537]\n"
     ]
    }
   ],
   "source": [
    "weights=np.where(correct==1,update_if_correct,update_if_wrong_1)\n",
    "print(weights)"
   ]
  },
  {
   "cell_type": "code",
   "execution_count": 25,
   "id": "048c9fdb",
   "metadata": {},
   "outputs": [
    {
     "name": "stdout",
     "output_type": "stream",
     "text": [
      "[0.07142857 0.07142857 0.07142857 0.07142857 0.07142857 0.07142857\n",
      " 0.16666667 0.16666667 0.16666667 0.07142857]\n"
     ]
    }
   ],
   "source": [
    "normalized_weights=weights/np.sum(weights)\n",
    "print(normalized_weights)"
   ]
  },
  {
   "cell_type": "code",
   "execution_count": 31,
   "id": "bf34595e",
   "metadata": {},
   "outputs": [
    {
     "name": "stdout",
     "output_type": "stream",
     "text": [
      "Decision tree train/test accuracies0.916/0.875\n"
     ]
    }
   ],
   "source": [
    "from sklearn.ensemble import AdaBoostClassifier\n",
    "tree=DecisionTreeClassifier(criterion='entropy',random_state=1,max_depth=1)\n",
    "\n",
    "ada=AdaBoostClassifier(estimator=tree,n_estimators=500,learning_rate=0.1,random_state=1)\n",
    "tree=tree.fit(X_train,y_train)\n",
    "y_train_pred=tree.predict(X_train)\n",
    "y_test_pred=tree.predict(X_test)\n",
    "tree_train=accuracy_score(y_train,y_train_pred)\n",
    "tree_test=accuracy_score(y_test,y_test_pred)\n",
    "print(f\"Decision tree train/test accuracies\" f'{tree_train:.3f}/{tree_test:.3f}')"
   ]
  },
  {
   "cell_type": "code",
   "execution_count": 32,
   "id": "5bf1fcba",
   "metadata": {},
   "outputs": [
    {
     "name": "stdout",
     "output_type": "stream",
     "text": [
      "AdaBoost train/test accuracies 0.968/0.917\n"
     ]
    }
   ],
   "source": [
    "ada=ada.fit(X_train,y_train)\n",
    "y_train_pred=ada.predict(X_train)\n",
    "y_test_pred=ada.predict(X_test)\n",
    "ada_train=accuracy_score(y_train,y_train_pred)\n",
    "ada_test=accuracy_score(y_test,y_test_pred)\n",
    "print(f'AdaBoost train/test accuracies '\n",
    "f'{ada_train:.3f}/{ada_test:.3f}')"
   ]
  },
  {
   "cell_type": "markdown",
   "id": "d5882d9e",
   "metadata": {},
   "source": [
    "Gradient boosting  \n",
    "XG_BOOST"
   ]
  },
  {
   "cell_type": "code",
   "execution_count": 35,
   "id": "f0cf1d28",
   "metadata": {},
   "outputs": [
    {
     "name": "stderr",
     "output_type": "stream",
     "text": [
      "/media/WORK/CODING/rashcka_ml/venv/lib/python3.12/site-packages/xgboost/training.py:183: UserWarning: [03:15:02] WARNING: /workspace/src/learner.cc:738: \n",
      "Parameters: { \"use_label_encoder\" } are not used.\n",
      "\n",
      "  bst.update(dtrain, iteration=i, fobj=obj)\n"
     ]
    },
    {
     "name": "stdout",
     "output_type": "stream",
     "text": [
      "XGboost train/test accuracies 0.968/0.917\n"
     ]
    }
   ],
   "source": [
    "import xgboost as xgb\n",
    "model=xgb.XGBClassifier(n_estimators=1000,learning_rate=0.01,max_depth=4,random_state=1,use_label_encoder=False)\n",
    "gbm=model.fit(X_train,y_train)\n",
    "y_train_pred=gbm.predict(X_train)\n",
    "y_test_pred=gbm.predict(X_test)\n",
    "\n",
    "gbm_train=accuracy_score(y_train,y_train_pred)\n",
    "gbm_test=accuracy_score(y_test,y_test_pred)\n",
    "print(f'XGboost train/test accuracies '\n",
    "f'{gbm_train:.3f}/{gbm_test:.3f}')\n"
   ]
  }
 ],
 "metadata": {
  "kernelspec": {
   "display_name": "venv",
   "language": "python",
   "name": "python3"
  },
  "language_info": {
   "codemirror_mode": {
    "name": "ipython",
    "version": 3
   },
   "file_extension": ".py",
   "mimetype": "text/x-python",
   "name": "python",
   "nbconvert_exporter": "python",
   "pygments_lexer": "ipython3",
   "version": "3.12.3"
  }
 },
 "nbformat": 4,
 "nbformat_minor": 5
}
