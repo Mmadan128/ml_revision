{
 "cells": [
  {
   "cell_type": "code",
   "execution_count": null,
   "id": "adde9f5c",
   "metadata": {},
   "outputs": [],
   "source": [
    "from sklearn.linear_model import LogisticRegression \n",
    "lr=LogisticRegression(C=100.0,solver='lbfgs',multi_class='ovr')\n",
    "lr.fit(X_train_std,y_train)\n",
    "plot_decision_regions(x_combined)"
   ]
  }
 ],
 "metadata": {
  "kernelspec": {
   "display_name": "venv",
   "language": "python",
   "name": "python3"
  },
  "language_info": {
   "name": "python",
   "version": "3.12.3"
  }
 },
 "nbformat": 4,
 "nbformat_minor": 5
}
